{
 "cells": [
  {
   "cell_type": "markdown",
   "metadata": {},
   "source": [
    "# Monte Carlo Simulation"
   ]
  },
  {
   "cell_type": "code",
   "execution_count": null,
   "metadata": {},
   "outputs": [],
   "source": [
    "### import necessary modules\n",
    "import math\n",
    "import json\n",
    "import numpy as np\n",
    "from _module import mc\n",
    "from matplotlib import pyplot as plt\n",
    "import matplotlib.colors as colors\n",
    "%matplotlib inline\n",
    "%config InlineBackend.figure_format = 'svg'\n",
    "\n",
    "\n",
    "### set parameters\n",
    "L = 8 # linear size of the system\n",
    "J = 1. # coupling strength\n",
    "T_list = np.linspace(1., 3.54, 10) # list of temperatures\n",
    "T_num = len(T_list)\n",
    "mct = L**2 # monte carlo time\n",
    "mc_eqSweeps = 10000 # num of monte carlo times to reach the equilibrium state\n",
    "num_sample = 100000 # num of sampling\n",
    "sample_store = [] # used to store samples\n",
    "\n",
    "\n",
    "### monte carlo simulations for different temperatures\n",
    "for temp in T_list:\n",
    "    machine = mc.IsingLattice(L, 'random', temp, J)\n",
    "    print(\"\\nI'm finding the detailed balance for temperature: \" + str(temp) + '.\\n')\n",
    "    for i in range(mct*mc_eqSweeps):\n",
    "        machine.flip_spin()\n",
    "    print(\"Start to sample at temperature \" + str(temp) + ' -_-')\n",
    "    for i in range(num_sample):\n",
    "        for j in range(mct):\n",
    "            machine.flip_spin()\n",
    "        sample_store.append(list(np.reshape(machine.configuration[1:-1, 1:-1], L**2)))\n",
    "    print(\"End sampling for temperature \" + str(temp) + ' ^_^')\n",
    "\n",
    "\n",
    "### save the data sampled from MC\n",
    "print(\"\\nGet Total \" + str(len(sample_store)) + \" configurations! Data is saving, please wait! @_@\")\n",
    "save_mc_data = [sample_store, T_list.tolist(), num_sample]\n",
    "with open('data/mc_data.json', 'w') as mc_file:\n",
    "    json.dump(save_mc_data, mc_file)\n",
    "print(\"Done!\")"
   ]
  },
  {
   "cell_type": "code",
   "execution_count": null,
   "metadata": {},
   "outputs": [],
   "source": [
    "### visualization\n",
    "bw_cmap = colors.ListedColormap(['black', 'white'])\n",
    "plt.imshow(np.reshape(np.array(sample_store[-1]),[L,L]), cmap=bw_cmap)"
   ]
  },
  {
   "cell_type": "markdown",
   "metadata": {},
   "source": [
    "# Restricted Boltzmann Machine"
   ]
  },
  {
   "cell_type": "code",
   "execution_count": null,
   "metadata": {},
   "outputs": [],
   "source": [
    "### import necessary modules\n",
    "import math\n",
    "import json\n",
    "import numpy as np\n",
    "from _module import rbm\n",
    "\n",
    "\n",
    "### set parameters\n",
    "L = 8 # linear size of the system\n",
    "v_num = L**2 # num of visible units\n",
    "h_num = 4 # num of hidden units\n",
    "batch_size = 50 # mini batch size\n",
    "epoch = 100\n",
    "lr = 0.01 # learning rate\n",
    "cd_order = 20 # order of contrastive divergence\n",
    "gs_eqSweeps = 10000 # num of Gibbs steps to reach the equilibrium state\n",
    "num_sample = 100000 # num of sampling\n",
    "sample_store = [] # used to store samples\n",
    "\n",
    "\n",
    "### prepare training data set\n",
    "print(\"I'm loading data!!!\\t -_-\")\n",
    "with open('data/mc_data.json', 'r') as mc_file: # load the data sampled from monte carlo simulation\n",
    "    [mc_data, T_list, _] = json.load(mc_file)\n",
    "train_data = np.array_split(mc_data, len(T_list)) # split the data set according to the temperature\n",
    "train_data = 0.5 * (np.array(train_data) + 1.) # map {-1,1} to {0,1}\n",
    "T_iter = iter(T_list)\n",
    "\n",
    "\n",
    "### RBM training and sampling\n",
    "for data in train_data:\n",
    "    print(\"\\nRBM Start For Temperature: \" + str(next(T_iter)) + '\\n')\n",
    "    model = rbm.Rbm(v_num, h_num)\n",
    "    model.train(data, batch_size, epoch, lr, cd_order)\n",
    "    rbm_sample_data = model.sample(np.random.choice([0., 1.], v_num), gs_eqSweeps, num_sample, 1)\n",
    "    sample_store.append(rbm_sample_data.tolist())\n",
    "\n",
    "    \n",
    "### save the data sampled from RBM\n",
    "print(\"\\nSaving RBM's Sampling data! >_<\\n\")\n",
    "save_rbm_data = [sample_store, T_list]\n",
    "with open('data/rbm_data.json', 'w') as rbm_file:\n",
    "    json.dump(save_rbm_data, rbm_file)\n",
    "print(\"Done! @_@\")"
   ]
  },
  {
   "cell_type": "markdown",
   "metadata": {},
   "source": [
    "# Magnetism"
   ]
  },
  {
   "cell_type": "code",
   "execution_count": null,
   "metadata": {},
   "outputs": [],
   "source": [
    "### import necessary modules\n",
    "import math\n",
    "import json\n",
    "import numpy as np\n",
    "from matplotlib import pyplot as plt\n",
    "import matplotlib.colors as colors\n",
    "%matplotlib inline\n",
    "%config InlineBackend.figure_format = 'svg'\n",
    "\n",
    "\n",
    "### function: get the average magnetism for a bunch of data\n",
    "def mag_temp(x):\n",
    "    m = list(map(lambda y: abs(np.mean(y)), x))\n",
    "    m = np.sum(m)/len(m)\n",
    "    return m\n",
    "\n",
    "\n",
    "### load configurations sampled form MC & RBM\n",
    "with open('data/mc_data.json', 'r') as mc_file:\n",
    "    [mc_data, T_list, _] = json.load(mc_file)\n",
    "with open('data/rbm_data.json', 'r') as rbm_file:\n",
    "    [rbm_data, _] = json.load(rbm_file)\n",
    "\n",
    "\n",
    "### calculate the average magnetism for each Temperature\n",
    "mc_plot_data = np.array_split(mc_data, len(T_list))\n",
    "mc_plot_data = list(map(mag_temp, mc_plot_data))\n",
    "rbm_plot_data = 2. * np.array(rbm_data) - 1. # map {0,1} to {-1,1}\n",
    "rbm_plot_data = list(map(mag_temp, rbm_plot_data))\n",
    "\n",
    "\n",
    "### visualization\n",
    "plt.plot(T_list, mc_plot_data, c='b', marker=\"+\", label=\"Monte Carlo\", linewidth=1.5, markersize=7)\n",
    "plt.plot(T_list, rbm_plot_data, c='r', marker=\"x\", label=\"RBM\", linewidth=1.5, markersize=7)\n",
    "plt.title(\"Magnetism From Monte Carlo and RBM\")\n",
    "plt.xlabel(\"Temperature\")\n",
    "plt.ylabel(\"Magnetism\")\n",
    "plt.xlim((1., 3.54))\n",
    "plt.legend(loc='best')\n",
    "fig = plt.gcf() # get current figure\n",
    "fig.savefig('magnetism-h4.eps', format='eps', dpi=1000)"
   ]
  },
  {
   "cell_type": "code",
   "execution_count": null,
   "metadata": {},
   "outputs": [],
   "source": []
  }
 ],
 "metadata": {
  "kernelspec": {
   "display_name": "Python 3",
   "language": "python",
   "name": "python3"
  },
  "language_info": {
   "codemirror_mode": {
    "name": "ipython",
    "version": 3
   },
   "file_extension": ".py",
   "mimetype": "text/x-python",
   "name": "python",
   "nbconvert_exporter": "python",
   "pygments_lexer": "ipython3",
   "version": "3.7.6"
  }
 },
 "nbformat": 4,
 "nbformat_minor": 4
}
